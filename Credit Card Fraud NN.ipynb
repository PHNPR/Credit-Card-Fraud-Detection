{
 "cells": [
  {
   "cell_type": "code",
   "execution_count": 1,
   "id": "deda8a21",
   "metadata": {},
   "outputs": [],
   "source": [
    "import pandas as pd\n",
    "from matplotlib import pyplot as plt \n",
    "import seaborn as sns\n",
    "from sklearn.preprocessing import StandardScaler\n",
    "from sklearn.model_selection import train_test_split\n",
    "from sklearn.metrics import f1_score , precision_score , recall_score , confusion_matrix"
   ]
  },
  {
   "cell_type": "code",
   "execution_count": 2,
   "id": "77c66585",
   "metadata": {},
   "outputs": [],
   "source": [
    "import tensorflow as tf\n",
    "from tensorflow.keras.models import Sequential\n",
    "from tensorflow.keras.layers import Dense\n",
    "from tensorflow.keras.losses import BinaryCrossentropy\n",
    "from tensorflow.keras.optimizers import Adam"
   ]
  },
  {
   "cell_type": "code",
   "execution_count": 3,
   "id": "660267e9",
   "metadata": {},
   "outputs": [
    {
     "data": {
      "text/html": [
       "<div>\n",
       "<style scoped>\n",
       "    .dataframe tbody tr th:only-of-type {\n",
       "        vertical-align: middle;\n",
       "    }\n",
       "\n",
       "    .dataframe tbody tr th {\n",
       "        vertical-align: top;\n",
       "    }\n",
       "\n",
       "    .dataframe thead th {\n",
       "        text-align: right;\n",
       "    }\n",
       "</style>\n",
       "<table border=\"1\" class=\"dataframe\">\n",
       "  <thead>\n",
       "    <tr style=\"text-align: right;\">\n",
       "      <th></th>\n",
       "      <th>V1</th>\n",
       "      <th>V2</th>\n",
       "      <th>V3</th>\n",
       "      <th>V4</th>\n",
       "      <th>V5</th>\n",
       "      <th>V6</th>\n",
       "      <th>V7</th>\n",
       "      <th>V8</th>\n",
       "      <th>V9</th>\n",
       "      <th>V10</th>\n",
       "      <th>...</th>\n",
       "      <th>V21</th>\n",
       "      <th>V22</th>\n",
       "      <th>V23</th>\n",
       "      <th>V24</th>\n",
       "      <th>V25</th>\n",
       "      <th>V26</th>\n",
       "      <th>V27</th>\n",
       "      <th>V28</th>\n",
       "      <th>Amount</th>\n",
       "      <th>Class</th>\n",
       "    </tr>\n",
       "  </thead>\n",
       "  <tbody>\n",
       "    <tr>\n",
       "      <th>0</th>\n",
       "      <td>-1.359807</td>\n",
       "      <td>-0.072781</td>\n",
       "      <td>2.536347</td>\n",
       "      <td>1.378155</td>\n",
       "      <td>-0.338321</td>\n",
       "      <td>0.462388</td>\n",
       "      <td>0.239599</td>\n",
       "      <td>0.098698</td>\n",
       "      <td>0.363787</td>\n",
       "      <td>0.090794</td>\n",
       "      <td>...</td>\n",
       "      <td>-0.018307</td>\n",
       "      <td>0.277838</td>\n",
       "      <td>-0.110474</td>\n",
       "      <td>0.066928</td>\n",
       "      <td>0.128539</td>\n",
       "      <td>-0.189115</td>\n",
       "      <td>0.133558</td>\n",
       "      <td>-0.021053</td>\n",
       "      <td>149.62</td>\n",
       "      <td>0</td>\n",
       "    </tr>\n",
       "    <tr>\n",
       "      <th>1</th>\n",
       "      <td>1.191857</td>\n",
       "      <td>0.266151</td>\n",
       "      <td>0.166480</td>\n",
       "      <td>0.448154</td>\n",
       "      <td>0.060018</td>\n",
       "      <td>-0.082361</td>\n",
       "      <td>-0.078803</td>\n",
       "      <td>0.085102</td>\n",
       "      <td>-0.255425</td>\n",
       "      <td>-0.166974</td>\n",
       "      <td>...</td>\n",
       "      <td>-0.225775</td>\n",
       "      <td>-0.638672</td>\n",
       "      <td>0.101288</td>\n",
       "      <td>-0.339846</td>\n",
       "      <td>0.167170</td>\n",
       "      <td>0.125895</td>\n",
       "      <td>-0.008983</td>\n",
       "      <td>0.014724</td>\n",
       "      <td>2.69</td>\n",
       "      <td>0</td>\n",
       "    </tr>\n",
       "    <tr>\n",
       "      <th>2</th>\n",
       "      <td>-1.358354</td>\n",
       "      <td>-1.340163</td>\n",
       "      <td>1.773209</td>\n",
       "      <td>0.379780</td>\n",
       "      <td>-0.503198</td>\n",
       "      <td>1.800499</td>\n",
       "      <td>0.791461</td>\n",
       "      <td>0.247676</td>\n",
       "      <td>-1.514654</td>\n",
       "      <td>0.207643</td>\n",
       "      <td>...</td>\n",
       "      <td>0.247998</td>\n",
       "      <td>0.771679</td>\n",
       "      <td>0.909412</td>\n",
       "      <td>-0.689281</td>\n",
       "      <td>-0.327642</td>\n",
       "      <td>-0.139097</td>\n",
       "      <td>-0.055353</td>\n",
       "      <td>-0.059752</td>\n",
       "      <td>378.66</td>\n",
       "      <td>0</td>\n",
       "    </tr>\n",
       "    <tr>\n",
       "      <th>3</th>\n",
       "      <td>-0.966272</td>\n",
       "      <td>-0.185226</td>\n",
       "      <td>1.792993</td>\n",
       "      <td>-0.863291</td>\n",
       "      <td>-0.010309</td>\n",
       "      <td>1.247203</td>\n",
       "      <td>0.237609</td>\n",
       "      <td>0.377436</td>\n",
       "      <td>-1.387024</td>\n",
       "      <td>-0.054952</td>\n",
       "      <td>...</td>\n",
       "      <td>-0.108300</td>\n",
       "      <td>0.005274</td>\n",
       "      <td>-0.190321</td>\n",
       "      <td>-1.175575</td>\n",
       "      <td>0.647376</td>\n",
       "      <td>-0.221929</td>\n",
       "      <td>0.062723</td>\n",
       "      <td>0.061458</td>\n",
       "      <td>123.50</td>\n",
       "      <td>0</td>\n",
       "    </tr>\n",
       "    <tr>\n",
       "      <th>4</th>\n",
       "      <td>-1.158233</td>\n",
       "      <td>0.877737</td>\n",
       "      <td>1.548718</td>\n",
       "      <td>0.403034</td>\n",
       "      <td>-0.407193</td>\n",
       "      <td>0.095921</td>\n",
       "      <td>0.592941</td>\n",
       "      <td>-0.270533</td>\n",
       "      <td>0.817739</td>\n",
       "      <td>0.753074</td>\n",
       "      <td>...</td>\n",
       "      <td>-0.009431</td>\n",
       "      <td>0.798278</td>\n",
       "      <td>-0.137458</td>\n",
       "      <td>0.141267</td>\n",
       "      <td>-0.206010</td>\n",
       "      <td>0.502292</td>\n",
       "      <td>0.219422</td>\n",
       "      <td>0.215153</td>\n",
       "      <td>69.99</td>\n",
       "      <td>0</td>\n",
       "    </tr>\n",
       "  </tbody>\n",
       "</table>\n",
       "<p>5 rows × 30 columns</p>\n",
       "</div>"
      ],
      "text/plain": [
       "         V1        V2        V3        V4        V5        V6        V7  \\\n",
       "0 -1.359807 -0.072781  2.536347  1.378155 -0.338321  0.462388  0.239599   \n",
       "1  1.191857  0.266151  0.166480  0.448154  0.060018 -0.082361 -0.078803   \n",
       "2 -1.358354 -1.340163  1.773209  0.379780 -0.503198  1.800499  0.791461   \n",
       "3 -0.966272 -0.185226  1.792993 -0.863291 -0.010309  1.247203  0.237609   \n",
       "4 -1.158233  0.877737  1.548718  0.403034 -0.407193  0.095921  0.592941   \n",
       "\n",
       "         V8        V9       V10  ...       V21       V22       V23       V24  \\\n",
       "0  0.098698  0.363787  0.090794  ... -0.018307  0.277838 -0.110474  0.066928   \n",
       "1  0.085102 -0.255425 -0.166974  ... -0.225775 -0.638672  0.101288 -0.339846   \n",
       "2  0.247676 -1.514654  0.207643  ...  0.247998  0.771679  0.909412 -0.689281   \n",
       "3  0.377436 -1.387024 -0.054952  ... -0.108300  0.005274 -0.190321 -1.175575   \n",
       "4 -0.270533  0.817739  0.753074  ... -0.009431  0.798278 -0.137458  0.141267   \n",
       "\n",
       "        V25       V26       V27       V28  Amount  Class  \n",
       "0  0.128539 -0.189115  0.133558 -0.021053  149.62      0  \n",
       "1  0.167170  0.125895 -0.008983  0.014724    2.69      0  \n",
       "2 -0.327642 -0.139097 -0.055353 -0.059752  378.66      0  \n",
       "3  0.647376 -0.221929  0.062723  0.061458  123.50      0  \n",
       "4 -0.206010  0.502292  0.219422  0.215153   69.99      0  \n",
       "\n",
       "[5 rows x 30 columns]"
      ]
     },
     "execution_count": 3,
     "metadata": {},
     "output_type": "execute_result"
    }
   ],
   "source": [
    "data = pd.read_csv(\"C:/Users/HP/Downloads/ML/DataSets/ccf_cleaned_data.csv\")\n",
    "data.head()"
   ]
  },
  {
   "cell_type": "code",
   "execution_count": 4,
   "id": "91274ec9",
   "metadata": {},
   "outputs": [
    {
     "data": {
      "text/plain": [
       "[(275663, 29), (275663,)]"
      ]
     },
     "execution_count": 4,
     "metadata": {},
     "output_type": "execute_result"
    }
   ],
   "source": [
    "X = data.drop('Class',axis= 1)\n",
    "Y = data['Class']\n",
    "\n",
    "X = StandardScaler().fit_transform(X)\n",
    "[X.shape,Y.shape]"
   ]
  },
  {
   "cell_type": "code",
   "execution_count": 5,
   "id": "f1ab7b3a",
   "metadata": {},
   "outputs": [
    {
     "data": {
      "text/plain": [
       "[[(220530, 29), (220530,)], [(55133, 29), (55133,)]]"
      ]
     },
     "execution_count": 5,
     "metadata": {},
     "output_type": "execute_result"
    }
   ],
   "source": [
    "X_train, X_test, Y_train, Y_test = train_test_split(X, Y, train_size= 0.8, random_state= 4) \n",
    "[[ X_train.shape , Y_train.shape ],[ X_test.shape , Y_test.shape ]]"
   ]
  },
  {
   "cell_type": "code",
   "execution_count": 6,
   "id": "a371d022",
   "metadata": {},
   "outputs": [],
   "source": [
    "model = Sequential([\n",
    "                        tf.keras.Input(shape=(29,)),\n",
    "                        Dense(units=20,activation='relu'),\n",
    "                        Dense(units=7,activation='relu'),\n",
    "                        Dense(units=5,activation='relu'),\n",
    "                        Dense(units=1,activation='sigmoid'),\n",
    "])"
   ]
  },
  {
   "cell_type": "code",
   "execution_count": 7,
   "id": "43944083",
   "metadata": {},
   "outputs": [],
   "source": [
    "model.compile(\n",
    "    loss=tf.keras.losses.BinaryCrossentropy(),\n",
    "    optimizer=tf.keras.optimizers.Adam(0.001),\n",
    ")"
   ]
  },
  {
   "cell_type": "code",
   "execution_count": 8,
   "id": "4fcd7487",
   "metadata": {},
   "outputs": [
    {
     "name": "stdout",
     "output_type": "stream",
     "text": [
      "Epoch 1/24\n",
      "6892/6892 [==============================] - 9s 1ms/step - loss: 0.0108\n",
      "Epoch 2/24\n",
      "6892/6892 [==============================] - 9s 1ms/step - loss: 0.0035\n",
      "Epoch 3/24\n",
      "6892/6892 [==============================] - 8s 1ms/step - loss: 0.0032\n",
      "Epoch 4/24\n",
      "6892/6892 [==============================] - 7s 1ms/step - loss: 0.0030\n",
      "Epoch 5/24\n",
      "6892/6892 [==============================] - 8s 1ms/step - loss: 0.0028\n",
      "Epoch 6/24\n",
      "6892/6892 [==============================] - 8s 1ms/step - loss: 0.0027\n",
      "Epoch 7/24\n",
      "6892/6892 [==============================] - 8s 1ms/step - loss: 0.0026\n",
      "Epoch 8/24\n",
      "6892/6892 [==============================] - 7s 1ms/step - loss: 0.0025\n",
      "Epoch 9/24\n",
      "6892/6892 [==============================] - 8s 1ms/step - loss: 0.0024\n",
      "Epoch 10/24\n",
      "6892/6892 [==============================] - 8s 1ms/step - loss: 0.0025\n",
      "Epoch 11/24\n",
      "6892/6892 [==============================] - 8s 1ms/step - loss: 0.0024\n",
      "Epoch 12/24\n",
      "6892/6892 [==============================] - 8s 1ms/step - loss: 0.0023\n",
      "Epoch 13/24\n",
      "6892/6892 [==============================] - 8s 1ms/step - loss: 0.0022\n",
      "Epoch 14/24\n",
      "6892/6892 [==============================] - 8s 1ms/step - loss: 0.0022\n",
      "Epoch 15/24\n",
      "6892/6892 [==============================] - 8s 1ms/step - loss: 0.0022\n",
      "Epoch 16/24\n",
      "6892/6892 [==============================] - 8s 1ms/step - loss: 0.0021\n",
      "Epoch 17/24\n",
      "6892/6892 [==============================] - 8s 1ms/step - loss: 0.0021\n",
      "Epoch 18/24\n",
      "6892/6892 [==============================] - 8s 1ms/step - loss: 0.0020\n",
      "Epoch 19/24\n",
      "6892/6892 [==============================] - 8s 1ms/step - loss: 0.0020\n",
      "Epoch 20/24\n",
      "6892/6892 [==============================] - 8s 1ms/step - loss: 0.0021\n",
      "Epoch 21/24\n",
      "6892/6892 [==============================] - 8s 1ms/step - loss: 0.0021\n",
      "Epoch 22/24\n",
      "6892/6892 [==============================] - 8s 1ms/step - loss: 0.0019\n",
      "Epoch 23/24\n",
      "6892/6892 [==============================] - 8s 1ms/step - loss: 0.0019\n",
      "Epoch 24/24\n",
      "6892/6892 [==============================] - 8s 1ms/step - loss: 0.0020\n"
     ]
    },
    {
     "data": {
      "text/plain": [
       "<keras.callbacks.History at 0x1a58327c640>"
      ]
     },
     "execution_count": 8,
     "metadata": {},
     "output_type": "execute_result"
    }
   ],
   "source": [
    "model.fit(X_train,Y_train,epochs=24)"
   ]
  },
  {
   "cell_type": "code",
   "execution_count": 9,
   "id": "1e55c93d",
   "metadata": {},
   "outputs": [
    {
     "name": "stdout",
     "output_type": "stream",
     "text": [
      "1723/1723 [==============================] - 2s 970us/step\n"
     ]
    }
   ],
   "source": [
    "y_ = model.predict(X_test)"
   ]
  },
  {
   "cell_type": "code",
   "execution_count": 10,
   "id": "b99081a7",
   "metadata": {},
   "outputs": [],
   "source": [
    "y = tf.round(y_)"
   ]
  },
  {
   "cell_type": "code",
   "execution_count": 11,
   "id": "d31c5d35",
   "metadata": {},
   "outputs": [
    {
     "data": {
      "text/plain": [
       "0.9146455585925566"
      ]
     },
     "execution_count": 11,
     "metadata": {},
     "output_type": "execute_result"
    }
   ],
   "source": [
    "precision_score(Y_test , y , average = 'macro')"
   ]
  },
  {
   "cell_type": "code",
   "execution_count": 12,
   "id": "e5068440",
   "metadata": {},
   "outputs": [
    {
     "data": {
      "text/plain": [
       "0.9194039802029734"
      ]
     },
     "execution_count": 12,
     "metadata": {},
     "output_type": "execute_result"
    }
   ],
   "source": [
    "recall_score(Y_test , y , average = 'macro')"
   ]
  },
  {
   "cell_type": "code",
   "execution_count": 13,
   "id": "51752367",
   "metadata": {},
   "outputs": [
    {
     "data": {
      "text/plain": [
       "0.9170111479204865"
      ]
     },
     "execution_count": 13,
     "metadata": {},
     "output_type": "execute_result"
    }
   ],
   "source": [
    "f1_score(Y_test , y , average = 'macro')"
   ]
  },
  {
   "cell_type": "code",
   "execution_count": 17,
   "id": "377d7245",
   "metadata": {},
   "outputs": [
    {
     "data": {
      "text/plain": [
       "Text(0.5, 62.15999999999998, 'Predicted transaction')"
      ]
     },
     "execution_count": 17,
     "metadata": {},
     "output_type": "execute_result"
    },
    {
     "data": {
      "image/png": "[encoded data removed]",
      "text/plain": [
       "<Figure size 432x432 with 2 Axes>"
      ]
     },
     "metadata": {
      "needs_background": "light"
     },
     "output_type": "display_data"
    }
   ],
   "source": [
    "plt.figure(figsize=(6,6))\n",
    "data = confusion_matrix(Y_test,y) \n",
    "l = ['Normal','Fraud']\n",
    "sns.heatmap(data,annot= True,annot_kws= {'size':18},fmt= 'd',linewidths= .5,cmap= 'PiYG',square= True,xticklabels= l ,yticklabels= l)\n",
    "plt.title('Confusion Matrix')\n",
    "plt.ylabel('Actual transaction')\n",
    "plt.xlabel('Predicted transaction')"
   ]
  }
 ],
 "metadata": {
  "kernelspec": {
   "display_name": "Python 3 (ipykernel)",
   "language": "python",
   "name": "python3"
  },
  "language_info": {
   "codemirror_mode": {
    "name": "ipython",
    "version": 3
   },
   "file_extension": ".py",
   "mimetype": "text/x-python",
   "name": "python",
   "nbconvert_exporter": "python",
   "pygments_lexer": "ipython3",
   "version": "3.10.4"
  }
 },
 "nbformat": 4,
 "nbformat_minor": 5
}
