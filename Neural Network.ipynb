{
 "cells": [
  {
   "cell_type": "code",
   "execution_count": 1,
   "id": "deda8a21",
   "metadata": {},
   "outputs": [],
   "source": [
    "# Importing required libraries\n",
    "import numpy as np\n",
    "import pandas as pd\n",
    "from matplotlib import pyplot as plt \n",
    "import seaborn as sns\n",
    "from sklearn.metrics import f1_score , accuracy_score ,precision_score , recall_score , confusion_matrix , precision_recall_curve"
   ]
  },
  {
   "cell_type": "code",
   "execution_count": 2,
   "id": "77c66585",
   "metadata": {},
   "outputs": [],
   "source": [
    "# Importing required tensorflow functions\n",
    "import tensorflow as tf\n",
    "tf.random.set_seed(221)                             # pip install tensorflow\n",
    "from tensorflow.keras.models import Sequential\n",
    "from tensorflow.keras.layers import Dense\n",
    "from tensorflow.keras.losses import BinaryCrossentropy\n",
    "from tensorflow.keras.optimizers import Adam"
   ]
  },
  {
   "cell_type": "code",
   "execution_count": 3,
   "id": "369e4536",
   "metadata": {},
   "outputs": [],
   "source": [
    "def prediction_maker(Y_hat,Y_test):\n",
    "    precision, recall, thresholds = precision_recall_curve(Y_test, Y_hat)\n",
    "    fscore = (2 * precision * recall) / (precision + recall)\n",
    "    ix = np.argmax(fscore) \n",
    "\n",
    "    Y_pred_new = []\n",
    "    for i in range(len(Y_hat)) : \n",
    "        if Y_hat[i] < thresholds[ix] :\n",
    "            Y_pred_new.append(0)\n",
    "        else :  \n",
    "            Y_pred_new.append(1) \n",
    "\n",
    "    return Y_pred_new , thresholds[ix]"
   ]
  },
  {
   "cell_type": "code",
   "execution_count": 4,
   "id": "a21de6b3",
   "metadata": {},
   "outputs": [],
   "source": [
    "def confusion_matrix_plot(Y_test,y_pred):\n",
    "    plt.figure(figsize=(6,6))\n",
    "    data = confusion_matrix(Y_test,y_pred) \n",
    "    l = ['Normal','Fraud']\n",
    "    sns.heatmap(data,annot= True,annot_kws= {'size':18},fmt= 'd',linewidths= .5,cmap= 'vlag',square= True,xticklabels= l ,yticklabels= l)\n",
    "    plt.title('Confusion Matrix')\n",
    "    plt.ylabel('Actual transaction')\n",
    "    plt.xlabel('Predicted transaction')"
   ]
  },
  {
   "cell_type": "code",
   "execution_count": 5,
   "id": "29232e7f",
   "metadata": {},
   "outputs": [],
   "source": [
    "X_train = pd.read_csv(\"C:/Users/HP/Downloads/Github/CREDIT-CARD-FRAUD-DETECTION/X_train.csv\").to_numpy()\n",
    "Y_train = pd.read_csv(\"C:/Users/HP/Downloads/Github/CREDIT-CARD-FRAUD-DETECTION/Y_train.csv\").to_numpy().ravel()\n",
    "X_test = pd.read_csv(\"C:/Users/HP/Downloads/Github/CREDIT-CARD-FRAUD-DETECTION/X_test.csv\").to_numpy()  \n",
    "Y_test = pd.read_csv(\"C:/Users/HP/Downloads/Github/CREDIT-CARD-FRAUD-DETECTION/Y_test.csv\").to_numpy().ravel()"
   ]
  },
  {
   "cell_type": "code",
   "execution_count": 6,
   "id": "d245fef1",
   "metadata": {},
   "outputs": [
    {
     "data": {
      "text/plain": [
       "[[(220530, 29), (220530,)], [(55133, 29), (55133,)]]"
      ]
     },
     "execution_count": 6,
     "metadata": {},
     "output_type": "execute_result"
    }
   ],
   "source": [
    "[[ X_train.shape , Y_train.shape ],[ X_test.shape , Y_test.shape ]]"
   ]
  },
  {
   "cell_type": "code",
   "execution_count": 7,
   "id": "a371d022",
   "metadata": {},
   "outputs": [],
   "source": [
    "# Creating the layers of Neural Network.\n",
    "model = Sequential([\n",
    "                        tf.keras.Input(shape=(29,)),\n",
    "                        Dense(units=20,activation='relu'),\n",
    "                        Dense(units=7,activation='relu'),\n",
    "                        Dense(units=5,activation='relu'),\n",
    "                        Dense(units=1,activation='sigmoid'),\n",
    "])"
   ]
  },
  {
   "cell_type": "code",
   "execution_count": 8,
   "id": "43944083",
   "metadata": {},
   "outputs": [],
   "source": [
    "# Setting the Cost Function and Optimisation method.\n",
    "model.compile(\n",
    "    loss=tf.keras.losses.BinaryCrossentropy(),\n",
    "    optimizer=tf.keras.optimizers.Adam(0.001),\n",
    ")"
   ]
  },
  {
   "cell_type": "code",
   "execution_count": 9,
   "id": "4fcd7487",
   "metadata": {},
   "outputs": [
    {
     "name": "stdout",
     "output_type": "stream",
     "text": [
      "Epoch 1/24\n",
      "6892/6892 [==============================] - 13s 2ms/step - loss: 0.0089\n",
      "Epoch 2/24\n",
      "6892/6892 [==============================] - 10s 2ms/step - loss: 0.0034\n",
      "Epoch 3/24\n",
      "6892/6892 [==============================] - 10s 1ms/step - loss: 0.0031\n",
      "Epoch 4/24\n",
      "6892/6892 [==============================] - 10s 1ms/step - loss: 0.0029\n",
      "Epoch 5/24\n",
      "6892/6892 [==============================] - 10s 1ms/step - loss: 0.0028\n",
      "Epoch 6/24\n",
      "6892/6892 [==============================] - 10s 1ms/step - loss: 0.0027\n",
      "Epoch 7/24\n",
      "6892/6892 [==============================] - 10s 1ms/step - loss: 0.0025\n",
      "Epoch 8/24\n",
      "6892/6892 [==============================] - 10s 1ms/step - loss: 0.0026\n",
      "Epoch 9/24\n",
      "6892/6892 [==============================] - 10s 1ms/step - loss: 0.0024\n",
      "Epoch 10/24\n",
      "6892/6892 [==============================] - 10s 1ms/step - loss: 0.0025\n",
      "Epoch 11/24\n",
      "6892/6892 [==============================] - 11s 2ms/step - loss: 0.0024\n",
      "Epoch 12/24\n",
      "6892/6892 [==============================] - 11s 2ms/step - loss: 0.0024\n",
      "Epoch 13/24\n",
      "6892/6892 [==============================] - 10s 1ms/step - loss: 0.0023\n",
      "Epoch 14/24\n",
      "6892/6892 [==============================] - 11s 2ms/step - loss: 0.0024\n",
      "Epoch 15/24\n",
      "6892/6892 [==============================] - 11s 2ms/step - loss: 0.0023\n",
      "Epoch 16/24\n",
      "6892/6892 [==============================] - 12s 2ms/step - loss: 0.0022\n",
      "Epoch 17/24\n",
      "6892/6892 [==============================] - 13s 2ms/step - loss: 0.0022\n",
      "Epoch 18/24\n",
      "6892/6892 [==============================] - 11s 2ms/step - loss: 0.0021\n",
      "Epoch 19/24\n",
      "6892/6892 [==============================] - 11s 2ms/step - loss: 0.0021\n",
      "Epoch 20/24\n",
      "6892/6892 [==============================] - 11s 2ms/step - loss: 0.0022\n",
      "Epoch 21/24\n",
      "6892/6892 [==============================] - 12s 2ms/step - loss: 0.0020\n",
      "Epoch 22/24\n",
      "6892/6892 [==============================] - 11s 2ms/step - loss: 0.0021\n",
      "Epoch 23/24\n",
      "6892/6892 [==============================] - 11s 2ms/step - loss: 0.0020\n",
      "Epoch 24/24\n",
      "6892/6892 [==============================] - 14s 2ms/step - loss: 0.0020\n"
     ]
    },
    {
     "data": {
      "text/plain": [
       "<keras.callbacks.History at 0x258596b7970>"
      ]
     },
     "execution_count": 9,
     "metadata": {},
     "output_type": "execute_result"
    }
   ],
   "source": [
    "# Fitting the train data to neural network model\n",
    "model.fit(X_train,Y_train,epochs=24)"
   ]
  },
  {
   "cell_type": "code",
   "execution_count": 10,
   "id": "1e55c93d",
   "metadata": {},
   "outputs": [
    {
     "name": "stdout",
     "output_type": "stream",
     "text": [
      "1723/1723 [==============================] - 5s 2ms/step\n"
     ]
    }
   ],
   "source": [
    "# Getting the output values for the test data\n",
    "y_ = model.predict(X_test)"
   ]
  },
  {
   "cell_type": "code",
   "execution_count": 11,
   "id": "b99081a7",
   "metadata": {},
   "outputs": [],
   "source": [
    "# Converting the output data to 1 and 0 based on threshold of 0.5\n",
    "y = tf.round(y_)"
   ]
  },
  {
   "cell_type": "code",
   "execution_count": 12,
   "id": "2766baac",
   "metadata": {},
   "outputs": [],
   "source": [
    "# Changing the threshold value of 0.5 to another suited value to obtain better results\n",
    "Y , threshold= prediction_maker(y_,Y_test)"
   ]
  },
  {
   "cell_type": "code",
   "execution_count": 13,
   "id": "ab42a2dd",
   "metadata": {},
   "outputs": [
    {
     "data": {
      "text/plain": [
       "0.86712945"
      ]
     },
     "execution_count": 13,
     "metadata": {},
     "output_type": "execute_result"
    }
   ],
   "source": [
    "# The value of threshold\n",
    "threshold"
   ]
  },
  {
   "cell_type": "code",
   "execution_count": 14,
   "id": "73c1e4a3",
   "metadata": {},
   "outputs": [
    {
     "data": {
      "text/plain": [
       "0.9995465510674187"
      ]
     },
     "execution_count": 14,
     "metadata": {},
     "output_type": "execute_result"
    }
   ],
   "source": [
    "accuracy_score(Y_test , y)"
   ]
  },
  {
   "cell_type": "code",
   "execution_count": 15,
   "id": "4c8d0de0",
   "metadata": {},
   "outputs": [
    {
     "data": {
      "text/plain": [
       "0.9996191028966318"
      ]
     },
     "execution_count": 15,
     "metadata": {},
     "output_type": "execute_result"
    }
   ],
   "source": [
    "accuracy_score(Y_test , Y)"
   ]
  },
  {
   "cell_type": "code",
   "execution_count": 16,
   "id": "d31c5d35",
   "metadata": {},
   "outputs": [
    {
     "data": {
      "text/plain": [
       "0.9343966500840377"
      ]
     },
     "execution_count": 16,
     "metadata": {},
     "output_type": "execute_result"
    }
   ],
   "source": [
    "precision_score(Y_test , y , average = 'macro')"
   ]
  },
  {
   "cell_type": "code",
   "execution_count": 17,
   "id": "f0b1d369",
   "metadata": {},
   "outputs": [
    {
     "data": {
      "text/plain": [
       "0.9561228497992843"
      ]
     },
     "execution_count": 17,
     "metadata": {},
     "output_type": "execute_result"
    }
   ],
   "source": [
    "precision_score(Y_test , Y , average = 'macro')"
   ]
  },
  {
   "cell_type": "code",
   "execution_count": 18,
   "id": "e5068440",
   "metadata": {},
   "outputs": [
    {
     "data": {
      "text/plain": [
       "0.9194403134515292"
      ]
     },
     "execution_count": 18,
     "metadata": {},
     "output_type": "execute_result"
    }
   ],
   "source": [
    "recall_score(Y_test , y , average = 'macro')"
   ]
  },
  {
   "cell_type": "code",
   "execution_count": 19,
   "id": "c53d1906",
   "metadata": {},
   "outputs": [
    {
     "data": {
      "text/plain": [
       "0.9194766467000849"
      ]
     },
     "execution_count": 19,
     "metadata": {},
     "output_type": "execute_result"
    }
   ],
   "source": [
    "recall_score(Y_test , Y , average = 'macro')"
   ]
  },
  {
   "cell_type": "code",
   "execution_count": 20,
   "id": "51752367",
   "metadata": {},
   "outputs": [
    {
     "data": {
      "text/plain": [
       "0.9267870464874965"
      ]
     },
     "execution_count": 20,
     "metadata": {},
     "output_type": "execute_result"
    }
   ],
   "source": [
    "f1_score(Y_test , y , average = 'macro')"
   ]
  },
  {
   "cell_type": "code",
   "execution_count": 21,
   "id": "03dd1d03",
   "metadata": {},
   "outputs": [
    {
     "data": {
      "text/plain": [
       "0.9370303797893818"
      ]
     },
     "execution_count": 21,
     "metadata": {},
     "output_type": "execute_result"
    }
   ],
   "source": [
    "f1_score(Y_test , Y , average = 'macro')"
   ]
  },
  {
   "cell_type": "code",
   "execution_count": 22,
   "id": "05b1b4f9",
   "metadata": {},
   "outputs": [
    {
     "data": {
      "image/png": "[encoded data removed]",
      "text/plain": [
       "<Figure size 432x432 with 2 Axes>"
      ]
     },
     "metadata": {
      "needs_background": "light"
     },
     "output_type": "display_data"
    }
   ],
   "source": [
    "confusion_matrix_plot(Y_test,y)"
   ]
  },
  {
   "cell_type": "code",
   "execution_count": 23,
   "id": "4d733265",
   "metadata": {},
   "outputs": [
    {
     "data": {
      "image/png": "[encoded data removed]",
      "text/plain": [
       "<Figure size 432x432 with 2 Axes>"
      ]
     },
     "metadata": {
      "needs_background": "light"
     },
     "output_type": "display_data"
    }
   ],
   "source": [
    "confusion_matrix_plot(Y_test,Y)"
   ]
  },
  {
   "cell_type": "code",
   "execution_count": 24,
   "id": "06822b83",
   "metadata": {},
   "outputs": [],
   "source": [
    "# Saving the weights of Neural Network.\n",
    "model.save_weights('NN_model_weights.h5')"
   ]
  }
 ],
 "metadata": {
  "kernelspec": {
   "display_name": "Python 3 (ipykernel)",
   "language": "python",
   "name": "python3"
  },
  "language_info": {
   "codemirror_mode": {
    "name": "ipython",
    "version": 3
   },
   "file_extension": ".py",
   "mimetype": "text/x-python",
   "name": "python",
   "nbconvert_exporter": "python",
   "pygments_lexer": "ipython3",
   "version": "3.10.4"
  },
  "vscode": {
   "interpreter": {
    "hash": "52634da84371cba311ea128a5ea7cdc41ff074b781779e754b270ff9f8153cee"
   }
  }
 },
 "nbformat": 4,
 "nbformat_minor": 5
}
